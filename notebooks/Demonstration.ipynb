{
 "cells": [
  {
   "cell_type": "code",
   "execution_count": 1,
   "id": "6d557367-b913-481b-9b7b-6a16e01ae158",
   "metadata": {},
   "outputs": [],
   "source": [
    "import torch\n",
    "from complex_multiplication import complex_multiplication"
   ]
  },
  {
   "cell_type": "code",
   "execution_count": 2,
   "id": "c753f99f-ee88-4382-bbff-0e85b383d407",
   "metadata": {},
   "outputs": [],
   "source": [
    "torch.set_printoptions(precision=2, linewidth=120)\n",
    "cuda = torch.device('cuda')\n",
    "x = torch.rand((1, 1, 4, 4), dtype=torch.cfloat, device=cuda)*10\n",
    "h = torch.rand((1, 1, 4, 4), dtype=torch.cfloat, device=cuda)*10"
   ]
  },
  {
   "cell_type": "code",
   "execution_count": 3,
   "id": "ae74afaf-4cf3-4b67-9380-d4768d80370c",
   "metadata": {},
   "outputs": [],
   "source": [
    "x = torch.view_as_real(x)\n",
    "h = torch.view_as_real(h)"
   ]
  },
  {
   "cell_type": "code",
   "execution_count": 4,
   "id": "2f40bb7a-de8a-46f1-9fca-8d13d209a194",
   "metadata": {},
   "outputs": [
    {
     "name": "stdout",
     "output_type": "stream",
     "text": [
      "CPP: my_pytorch_extensions_cuda called\n"
     ]
    }
   ],
   "source": [
    "output = complex_multiplication(x, h)"
   ]
  },
  {
   "cell_type": "code",
   "execution_count": 5,
   "id": "5c8bd777-43e1-45af-971d-c3fc966c5e52",
   "metadata": {},
   "outputs": [
    {
     "data": {
      "text/plain": [
       "tensor([[[[[-20.27, 103.97],\n",
       "           [-26.53,  44.64],\n",
       "           [-17.00,  45.81],\n",
       "           [-15.24,  54.30]],\n",
       "\n",
       "          [[-42.17,  30.82],\n",
       "           [  1.20,   0.67],\n",
       "           [ 65.62,  54.37],\n",
       "           [ -5.60,  56.64]],\n",
       "\n",
       "          [[-11.55,  30.43],\n",
       "           [ 15.26, 108.59],\n",
       "           [ -9.62,  19.71],\n",
       "           [ -6.44,  41.54]],\n",
       "\n",
       "          [[-20.03, 138.90],\n",
       "           [ -8.24,  10.48],\n",
       "           [-46.86,  44.49],\n",
       "           [ -1.47,  16.78]]]]], device='cuda:0')"
      ]
     },
     "execution_count": 5,
     "metadata": {},
     "output_type": "execute_result"
    }
   ],
   "source": [
    "output"
   ]
  },
  {
   "cell_type": "code",
   "execution_count": 6,
   "id": "78b41202-f5b1-44ec-a023-18fa0895d714",
   "metadata": {},
   "outputs": [
    {
     "data": {
      "text/plain": [
       "tensor([[[[-20.27+103.97j, -26.53+44.64j, -17.00+45.81j, -15.24+54.30j],\n",
       "          [-42.17+30.82j,   1.20+0.67j,  65.62+54.37j,  -5.60+56.64j],\n",
       "          [-11.55+30.43j,  15.26+108.59j,  -9.62+19.71j,  -6.44+41.54j],\n",
       "          [-20.03+138.90j,  -8.24+10.48j, -46.86+44.49j,  -1.47+16.78j]]]], device='cuda:0')"
      ]
     },
     "execution_count": 6,
     "metadata": {},
     "output_type": "execute_result"
    }
   ],
   "source": [
    "torch.view_as_complex(output)"
   ]
  },
  {
   "cell_type": "code",
   "execution_count": null,
   "id": "521a87bd-c819-4749-b957-248ace90a93f",
   "metadata": {},
   "outputs": [],
   "source": []
  }
 ],
 "metadata": {
  "kernelspec": {
   "display_name": "Python 3.7.4 64-bit ('base': conda)",
   "language": "python",
   "name": "python374jvsc74a57bd0b4e298d0cf4be5c988e45de9fa38582acbac35100430c9bc55d6c3fb73895319"
  },
  "language_info": {
   "codemirror_mode": {
    "name": "ipython",
    "version": 3
   },
   "file_extension": ".py",
   "mimetype": "text/x-python",
   "name": "python",
   "nbconvert_exporter": "python",
   "pygments_lexer": "ipython3",
   "version": "3.7.4"
  }
 },
 "nbformat": 4,
 "nbformat_minor": 5
}
